{
 "cells": [
  {
   "cell_type": "markdown",
   "metadata": {},
   "source": [
    "Stats descriptives des bases de données pour une première analyse"
   ]
  },
  {
   "cell_type": "markdown",
   "metadata": {},
   "source": [
    "1) Importation des bases que l'on va utiliser"
   ]
  },
  {
   "cell_type": "code",
   "execution_count": null,
   "metadata": {},
   "outputs": [
    {
     "name": "stderr",
     "output_type": "stream",
     "text": [
      "/tmp/ipykernel_6751/964050192.py:5: DtypeWarning: Columns (63) have mixed types. Specify dtype option on import or set low_memory=False.\n",
      "  df_csv2 = pd.read_csv(\"../Bases/tcm_men_public_V3.csv\", delimiter=\",\",encoding=\"ISO-8859-1\")  # Modifie le délimiteur si nécessaire\n"
     ]
    },
    {
     "name": "stdout",
     "output_type": "stream",
     "text": [
      "  Parc par région des voitures particulières au 1er janvier, selon le carburant, l'âge, le statut, la vignette crit'air  \\\n",
      "0                              Source : SDES, Rsvero                                                                      \n",
      "1                                                NaN                                                                      \n",
      "2                                Région de résidence                                                                      \n",
      "3                                           Inconnue                                                                      \n",
      "4                                           Inconnue                                                                      \n",
      "\n",
      "                 Unnamed: 1                       Unnamed: 2 Unnamed: 3  \\\n",
      "0                       NaN                              NaN        NaN   \n",
      "1                       NaN                              NaN        NaN   \n",
      "2  Code région de résidence                        Carburant        Âge   \n",
      "3                        00  Diesel hybride non rechargeable       0 an   \n",
      "4                        00  Diesel hybride non rechargeable       0 an   \n",
      "\n",
      "                Unnamed: 4 Unnamed: 5  Unnamed: 6  Unnamed: 7  Unnamed: 8  \\\n",
      "0                      NaN        NaN         NaN         NaN         NaN   \n",
      "1                      NaN        NaN         NaN         NaN         NaN   \n",
      "2  Statut de l'utilisateur   Crit'Air      2011.0      2012.0      2013.0   \n",
      "3              Particulier          2         0.0         0.0         0.0   \n",
      "4            Professionnel          2         0.0         0.0         1.0   \n",
      "\n",
      "   Unnamed: 9  Unnamed: 10  Unnamed: 11  Unnamed: 12  Unnamed: 13  \\\n",
      "0         NaN          NaN          NaN          NaN          NaN   \n",
      "1         NaN          NaN          NaN          NaN          NaN   \n",
      "2      2014.0       2015.0       2016.0       2017.0       2018.0   \n",
      "3         0.0          0.0         18.0          0.0          0.0   \n",
      "4         0.0          0.0          0.0          0.0          0.0   \n",
      "\n",
      "   Unnamed: 14  Unnamed: 15  Unnamed: 16  Unnamed: 17  Unnamed: 18  \\\n",
      "0          NaN          NaN          NaN          NaN          NaN   \n",
      "1          NaN          NaN          NaN          NaN          NaN   \n",
      "2       2019.0       2020.0       2021.0       2022.0       2023.0   \n",
      "3          0.0          1.0          1.0          0.0          1.0   \n",
      "4          1.0          0.0          0.0          0.0          1.0   \n",
      "\n",
      "   Unnamed: 19  \n",
      "0          NaN  \n",
      "1          NaN  \n",
      "2       2024.0  \n",
      "3          0.0  \n",
      "4          0.0  \n"
     ]
    }
   ],
   "source": [
    "import pandas as pd\n",
    "\n",
    "# Importer 3 bases CSV\n",
    "df_csv1 = pd.read_csv(\"../Bases/q_voitvul_public_V3.csv\", delimiter=\";\",encoding=\"ISO-8859-1\")  # Modifie le délimiteur si nécessaire\n",
    "df_csv2 = pd.read_csv(\"../Bases/tcm_men_public_V3.csv\", delimiter=\",\",encoding=\"ISO-8859-1\")  # Modifie le délimiteur si nécessaire\n",
    "df_csv3 = pd.read_csv(\"../Bases/q_menage_public_V3.csv\", delimiter=\";\",encoding=\"ISO-8859-1\")  # Modifie le délimiteur si nécessaire\n",
    "\n",
    "# Importer la base Excel\n",
    "df_excel = pd.read_excel(\"../Bases/parc_vp_region_2024_1.xlsx\", engine=\"openpyxl\")  # Spécifie openpyxl pour les fichiers .xlsx\n",
    "print(df_excel.head())  # Affiche les 5 premières lignes\n",
    "#excel petit soucis à regler pour l'ouverture"
   ]
  },
  {
   "cell_type": "code",
   "execution_count": 9,
   "metadata": {},
   "outputs": [
    {
     "name": "stdout",
     "output_type": "stream",
     "text": [
      "      IDENT_NUMVEH      IDENT_MEN  NUM_VEH     pond_veh  KVROUL  \\\n",
      "0  110000011400001  1100000114000        1  1842.977077       1   \n",
      "1  110000011500001  1100000115000        1  1948.382441       1   \n",
      "2  110000011500002  1100000115000        2  1948.382441       1   \n",
      "3  110000011600001  1100000116000        1   833.453670       1   \n",
      "4  110000012400001  1100000124000        1  1698.142782       1   \n",
      "\n",
      "   cylindree_fin energie_fin  energie_agrege hybride  energie_statinfo  ...  \\\n",
      "0            1.6          ES             1.0     NaN               2.0  ...   \n",
      "1            1.6          GO             2.0     NaN               4.0  ...   \n",
      "2            1.4          ES             1.0     NaN               2.0  ...   \n",
      "3            1.6          ES             1.0     NaN               2.0  ...   \n",
      "4            1.5          GO             2.0     NaN               4.0  ...   \n",
      "\n",
      "   KVKMVT      KVKM1ANV  indic_km_annu_corr KVKM1ANVT  KVCONS KVGAREJOUR  \\\n",
      "0     4.0   2478.916193             INTERPO       1.0     7.2        1.0   \n",
      "1     1.0   3076.149733             INTERPO       1.0     5.5        1.0   \n",
      "2     5.0   3300.560578             INTERPO       1.0     6.0        2.0   \n",
      "3     4.0   3902.887413             INTERPO       1.0     9.0        1.0   \n",
      "4     5.0  15980.511731             INTERPO       5.0     6.5        2.0   \n",
      "\n",
      "   KVGARENUIT  KVGARELEC_FLAG  KVGARELEC_A  KVGARELEC_B  \n",
      "0         1.0               1          1.0          0.0  \n",
      "1         1.0               1          0.0          0.0  \n",
      "2         2.0               1          0.0          0.0  \n",
      "3         1.0               1          0.0          0.0  \n",
      "4         2.0               1          1.0          0.0  \n",
      "\n",
      "[5 rows x 74 columns]\n"
     ]
    }
   ],
   "source": [
    "#Affiche table voiturevul\n",
    "print(df_csv1.head())  # Affiche les 5 premières lignes"
   ]
  },
  {
   "cell_type": "code",
   "execution_count": 7,
   "metadata": {},
   "outputs": [
    {
     "name": "stdout",
     "output_type": "stream",
     "text": [
      "       ident_men     ident_log  vague_enq  BS    pond_menC  NPERS  NCOUPLES  \\\n",
      "0  1100000114000  110000011400          1   0  1842.977077      1         0   \n",
      "1  1100000115000  110000011500          1   0  1948.382441      4         1   \n",
      "2  1100000116000  110000011600          1   0   833.453670      2         1   \n",
      "3  1100000124000  110000012400          2   0  1698.142782      2         1   \n",
      "4  1100000125000  110000012500          2   0  1994.633496      2         1   \n",
      "\n",
      "   NENFANTS  NACTIFS  NENFACT  ...  pop_10min_pieton_train_res  \\\n",
      "0         0        0        0  ...                          80   \n",
      "1         2        2        0  ...                          80   \n",
      "2         0        0        0  ...                           0   \n",
      "3         0        2        0  ...                          50   \n",
      "4         0        1        0  ...                          50   \n",
      "\n",
      "   pop_10min_voiture_tram_metro_res  pop_10min_voiture_train_res  \\\n",
      "0                                 0                          100   \n",
      "1                                 0                          100   \n",
      "2                                 0                          100   \n",
      "3                                 0                          100   \n",
      "4                                 0                          100   \n",
      "\n",
      "   classement_littoral_res  classement_montagne_res  \\\n",
      "0             Non concerné             Non concerné   \n",
      "1             Non concerné             Non concerné   \n",
      "2             Non concerné             Non concerné   \n",
      "3             Non concerné             Non concerné   \n",
      "4             Non concerné             Non concerné   \n",
      "\n",
      "                densite_7_RES  dist_res_tram  dist_res_metro  \\\n",
      "0      Grands centres urbains   10km et plus    10km et plus   \n",
      "1      Grands centres urbains   10km et plus    10km et plus   \n",
      "2  Rural Ã  habitat dispersÃ©   10km et plus    10km et plus   \n",
      "3      Grands centres urbains   10km et plus    10km et plus   \n",
      "4      Grands centres urbains   10km et plus    10km et plus   \n",
      "\n",
      "         dist_res_train         dist_res_tgv  \n",
      "0  500m Ã  moins de 1km         20km et plus  \n",
      "1         Moins de 500m         20km et plus  \n",
      "2     1 Ã  moins de 2km  10 Ã  moins de 20km  \n",
      "3  500m Ã  moins de 1km         20km et plus  \n",
      "4  500m Ã  moins de 1km         20km et plus  \n",
      "\n",
      "[5 rows x 85 columns]\n"
     ]
    }
   ],
   "source": [
    "#Affiche table tcm_menage\n",
    "print(df_csv2.head())"
   ]
  },
  {
   "cell_type": "code",
   "execution_count": 8,
   "metadata": {},
   "outputs": [
    {
     "name": "stdout",
     "output_type": "stream",
     "text": [
      "       IDENT_MEN    pond_menC  JNBVEH  JNBVHS  JNBVPHS  JNBCCHS  JNBVULHS  \\\n",
      "0  1100000114000  1842.977077       1     2.0      NaN      NaN       NaN   \n",
      "1  1100000115000  1948.382441       2     2.0      NaN      NaN       NaN   \n",
      "2  1100000116000   833.453670       1     2.0      NaN      NaN       NaN   \n",
      "3  1100000124000  1698.142782       1     2.0      NaN      NaN       NaN   \n",
      "4  1100000125000  1994.633496       2     2.0      NaN      NaN       NaN   \n",
      "\n",
      "   JNBMOTO  JNBCYCLO  JNBAUTVEH  ...  JUTILMOTO  JUTILCYCLO  JUTILAUTVEH  \\\n",
      "0        0         0          0  ...        NaN         NaN          NaN   \n",
      "1        0         0          0  ...        NaN         NaN          NaN   \n",
      "2        0         0          0  ...        NaN         NaN          NaN   \n",
      "3        2         0          0  ...        2.0         NaN          NaN   \n",
      "4        0         0          0  ...        NaN         NaN          NaN   \n",
      "\n",
      "   JUTILVELOAD  JUTILVELOENF  JVOLVELO  JPLUSVELO  JNBKVM  JUTIL2RM  BLOGDIST  \n",
      "0          NaN           NaN         2        NaN       1         0         2  \n",
      "1          0.0           0.0         2        NaN       2         0         1  \n",
      "2          NaN           NaN         2        NaN       1         0         4  \n",
      "3          1.0           NaN         2        NaN       1         2         1  \n",
      "4          NaN           NaN         2        NaN       2         0         1  \n",
      "\n",
      "[5 rows x 22 columns]\n"
     ]
    }
   ],
   "source": [
    "#Affiche table q_menage\n",
    "print(df_csv3.head())"
   ]
  }
 ],
 "metadata": {
  "kernelspec": {
   "display_name": "base",
   "language": "python",
   "name": "python3"
  },
  "language_info": {
   "codemirror_mode": {
    "name": "ipython",
    "version": 3
   },
   "file_extension": ".py",
   "mimetype": "text/x-python",
   "name": "python",
   "nbconvert_exporter": "python",
   "pygments_lexer": "ipython3",
   "version": "3.12.7"
  }
 },
 "nbformat": 4,
 "nbformat_minor": 2
}
